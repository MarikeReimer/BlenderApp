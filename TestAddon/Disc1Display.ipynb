{
 "cells": [
  {
   "cell_type": "code",
   "execution_count": 19,
   "metadata": {},
   "outputs": [
    {
     "name": "stdout",
     "output_type": "stream",
     "text": [
      "Schema `MarikeReimer`\n",
      "\n",
      "*subject_id    *identifier    *dendrite_id   *segmentation_ distance_to_so\n",
      "+------------+ +------------+ +------------+ +------------+ +------------+\n",
      "\n",
      " (Total: 0)\n",
      "\n"
     ]
    }
   ],
   "source": [
    "import numpy as np\n",
    "import os\n",
    "from pynwb import NWBFile, NWBHDF5IO, image\n",
    "from pynwb.ophys import TwoPhotonSeries, OpticalChannel, ImageSegmentation, ImagingPlane\n",
    "from pynwb.file import Subject\n",
    "from pynwb.device import Device\n",
    "import math\n",
    "\n",
    "import statistics\n",
    "import pandas as pd\n",
    "import h5py #Provides methods to supplement NWB\n",
    "import datajoint as dj #\n",
    "import csv \n",
    "from datetime import datetime\n",
    "from dateutil import tz\n",
    "from pynwb import NWBHDF5IO\n",
    "from matplotlib import pylab as plt\n",
    "\n",
    "def connect_to_dj():\n",
    "    dj.config['database.host'] = 'spinup-db001f1f.cluster-cyynsscieqtk.us-east-1.rds.amazonaws.com' \n",
    "    dj.config['database.user'] = 'MarikeReimer'\n",
    "    dj.config['database.password'] = 'uqHKL3YLMCG0'\n",
    "    dj.conn()\n",
    "\n",
    "    #Create a schema to organize the pipeline. Defining it here means you only need to change the code in one place.\n",
    "    current_schema = dj.schema('MarikeReimer', locals())\n",
    "    return current_schema\n",
    "\n",
    "\n",
    "schema = connect_to_dj()\n",
    "print(schema)\n",
    "schema\n",
    "\n",
    "#Create a schema to organize the pipeline. Defining it here means you only need to change the code in one place.\n",
    "schema = dj.schema('MarikeReimer', locals())\n",
    "schema\n",
    "\n",
    "\n",
    "#Define Mouse table\n",
    "@schema\n",
    "class Mouse(dj.Manual):\n",
    "    definition = \"\"\"\n",
    "    subject_id: varchar(128)                  # Primary keys above the '---'\n",
    "    ---\n",
    "    #non-primary columns below the '---' \n",
    "    genotype: enum('B6', 'BalbC', 'Unknown', 'Thy1-YFP')\n",
    "    sex: enum('M', 'F', 'Unknown')\n",
    "    species: varchar(128)\n",
    "    strain: varchar(128)\n",
    "    \"\"\"\n",
    "\n",
    "@schema\n",
    "class Session(dj.Manual):\n",
    "    definition = \"\"\"\n",
    "    ->Mouse\n",
    "    identifier: varchar(128)                  # Primary keys above the '---'\n",
    "    ---\n",
    "    #non-primary columns below the '---' \n",
    "    surgery: varchar(128)\n",
    "    pharmacology: varchar(128)\n",
    "    \"\"\"\n",
    "\n",
    "\n",
    "@schema\n",
    "class Dendrite(dj.Manual):\n",
    "    definition = \"\"\"\n",
    "    ->Session\n",
    "    dendrite_id: int                  # Primary keys above the '---'\n",
    "    ---\n",
    "    #non-primary columns below the '---'\n",
    "    soma_center_point: longblob\n",
    "    proximal_dendrite_length: float\n",
    "    medial_dendrite_length: float\n",
    "    distal_dendrite_length: float\n",
    "    \"\"\"\n",
    "\n",
    "@schema\n",
    "class Image_segmentation(dj.Imported):\n",
    "    definition = \"\"\"\n",
    "    ->Dendrite\n",
    "    segmentation_name: varchar(128)                  # Primary keys above the '---'\n",
    "    ---\n",
    "    #non-primary columns below the '---'\n",
    "    length: float\n",
    "    volume: float\n",
    "    surface_area:float\n",
    "    spine_type: enum('mushroom', 'thin', 'disconnected','U')\n",
    "    center_of_mass: longblob\n",
    "    \"\"\"\n",
    "    def make(self, key):\n",
    "        subject_id = key['subject_id']\n",
    "        identifier = key['identifier']\n",
    "\n",
    "        nwbfile_to_read = 'C:/Users/meowm/OneDrive/TanLab/DataJointTesting/NWBfiles/' + str(subject_id) + str(identifier) + '.nwb' #TODO: Remove hard coding\n",
    "        #nwbfile_to_read = 'C:/Users/meowm/Downloads/NWBfiles/' + str(subject_id) + str(identifier) + '.nwb'\n",
    "\n",
    "        print(nwbfile_to_read)\n",
    "        with NWBHDF5IO(nwbfile_to_read, 'r') as io:\n",
    "            nwbfile = io.read()     \n",
    "            for group in nwbfile.processing[\"SpineData\"][\"ImageSegmentation\"].children[:]:\n",
    "                #print(group.name)\n",
    "                if group.name.startswith(\"Mushroom\"):\n",
    "                    spine_type = 'mushroom'\n",
    "                elif group.name.startswith(\"Thin\"):\n",
    "                    spine_type = 'thin'\n",
    "                elif group.name.startswith(\"Disconnected\"):\n",
    "                    spine_type = 'disconnected'\n",
    "                else:\n",
    "                    spine_type = 'U'\n",
    "\n",
    "                length = nwbfile.processing[\"SpineData\"][\"ImageSegmentation\"][group.name].length.data[:]\n",
    "                length = length[0]\n",
    "                volume = nwbfile.processing[\"SpineData\"][\"ImageSegmentation\"][group.name].volume.data[:]\n",
    "                volume = volume[0]\n",
    "                surface_area = nwbfile.processing[\"SpineData\"][\"ImageSegmentation\"][group.name].surface_area.data[:]\n",
    "                surface_area = surface_area[0]\n",
    "                center_of_mass = nwbfile.processing[\"SpineData\"][\"ImageSegmentation\"][group.name].center_of_mass.data[:]\n",
    "                center_of_mass = center_of_mass[0]\n",
    "                \n",
    "                key['segmentation_name'] = group.name \n",
    "                key['length'] = length\n",
    "                key['volume'] = volume\n",
    "                key['surface_area'] = surface_area\n",
    "                key['spine_type'] = spine_type\n",
    "                key['center_of_mass'] = center_of_mass\n",
    "                self.insert1(key)\n",
    "\n",
    "@schema\n",
    "class Distance_to_soma(dj.Computed):\n",
    "    definition = \"\"\"\n",
    "    ->Image_segmentation\n",
    "    ---\n",
    "    distance_to_soma: float\"\"\"\n",
    "    def make(self, key):\n",
    "        center_of_mass = (Image_segmentation() & key).fetch1('center_of_mass')\n",
    "        soma_center_point = (Dendrite() & key).fetch1('soma_center_point')\n",
    "        distance_to_soma = math.dist(center_of_mass,soma_center_point)\n",
    "\n",
    "        key['distance_to_soma'] = distance_to_soma\n",
    "        self.insert1(key)\n",
    "\n",
    "#Instantiate tables\n",
    "mouse = Mouse()\n",
    "session = Session()\n",
    "dendrite = Dendrite()\n",
    "image_segmentation = Image_segmentation()\n",
    "distance_to_soma = Distance_to_soma()\n",
    "\n",
    "print(distance_to_soma)"
   ]
  },
  {
   "cell_type": "code",
   "execution_count": 18,
   "metadata": {},
   "outputs": [
    {
     "name": "stdout",
     "output_type": "stream",
     "text": [
      "`MarikeReimer`.`mouse` (1 tuples)\n",
      "`MarikeReimer`.`session` (3 tuples)\n",
      "`MarikeReimer`.`dendrite` (3 tuples)\n",
      "`MarikeReimer`.`_image_segmentation` (68 tuples)\n",
      "`MarikeReimer`.`__distance_to_soma` (68 tuples)\n"
     ]
    },
    {
     "name": "stderr",
     "output_type": "stream",
     "text": [
      "[2023-08-07 15:56:20,147][INFO]: Dropped table `MarikeReimer`.`__distance_to_soma`\n",
      "[2023-08-07 15:56:20,280][INFO]: Dropped table `MarikeReimer`.`_image_segmentation`\n",
      "[2023-08-07 15:56:20,424][INFO]: Dropped table `MarikeReimer`.`dendrite`\n",
      "[2023-08-07 15:56:20,553][INFO]: Dropped table `MarikeReimer`.`session`\n",
      "[2023-08-07 15:56:20,698][INFO]: Dropped table `MarikeReimer`.`mouse`\n"
     ]
    },
    {
     "name": "stdout",
     "output_type": "stream",
     "text": [
      "Tables dropped.  Restart kernel.\n"
     ]
    }
   ],
   "source": [
    "mouse.drop()"
   ]
  },
  {
   "cell_type": "code",
   "execution_count": 29,
   "metadata": {},
   "outputs": [
    {
     "data": {
      "text/html": [
       "\n",
       "    \n",
       "    <style type=\"text/css\">\n",
       "        .Relation{\n",
       "            border-collapse:collapse;\n",
       "        }\n",
       "        .Relation th{\n",
       "            background: #A0A0A0; color: #ffffff; padding:4px; border:#f0e0e0 1px solid;\n",
       "            font-weight: normal; font-family: monospace; font-size: 100%;\n",
       "        }\n",
       "        .Relation td{\n",
       "            padding:4px; border:#f0e0e0 1px solid; font-size:100%;\n",
       "        }\n",
       "        .Relation tr:nth-child(odd){\n",
       "            background: #ffffff;\n",
       "        }\n",
       "        .Relation tr:nth-child(even){\n",
       "            background: #f3f1ff;\n",
       "        }\n",
       "        /* Tooltip container */\n",
       "        .djtooltip {\n",
       "        }\n",
       "        /* Tooltip text */\n",
       "        .djtooltip .djtooltiptext {\n",
       "            visibility: hidden;\n",
       "            width: 120px;\n",
       "            background-color: black;\n",
       "            color: #fff;\n",
       "            text-align: center;\n",
       "            padding: 5px 0;\n",
       "            border-radius: 6px;\n",
       "            /* Position the tooltip text - see examples below! */\n",
       "            position: absolute;\n",
       "            z-index: 1;\n",
       "        }\n",
       "        #primary {\n",
       "            font-weight: bold;\n",
       "            color: black;\n",
       "        }\n",
       "        #nonprimary {\n",
       "            font-weight: normal;\n",
       "            color: white;\n",
       "        }\n",
       "\n",
       "        /* Show the tooltip text when you mouse over the tooltip container */\n",
       "        .djtooltip:hover .djtooltiptext {\n",
       "            visibility: visible;\n",
       "        }\n",
       "    </style>\n",
       "    \n",
       "    \n",
       "        <div style=\"max-height:1000px;max-width:1500px;overflow:auto;\">\n",
       "        <table border=\"1\" class=\"Relation\">\n",
       "            <thead> <tr style=\"text-align: right;\"> <th> <div class=\"djtooltip\">\n",
       "                            <p id=\"primary\">subject_id</p>\n",
       "                            <span class=\"djtooltiptext\">Primary keys above the '---'</span>\n",
       "                        </div></th><th><div class=\"djtooltip\">\n",
       "                            <p id=\"primary\">identifier</p>\n",
       "                            <span class=\"djtooltiptext\">Primary keys above the '---'</span>\n",
       "                        </div></th><th><div class=\"djtooltip\">\n",
       "                            <p id=\"nonprimary\">genotype</p>\n",
       "                            <span class=\"djtooltiptext\"></span>\n",
       "                        </div></th><th><div class=\"djtooltip\">\n",
       "                            <p id=\"nonprimary\">sex</p>\n",
       "                            <span class=\"djtooltiptext\"></span>\n",
       "                        </div></th><th><div class=\"djtooltip\">\n",
       "                            <p id=\"nonprimary\">species</p>\n",
       "                            <span class=\"djtooltiptext\"></span>\n",
       "                        </div></th><th><div class=\"djtooltip\">\n",
       "                            <p id=\"nonprimary\">strain</p>\n",
       "                            <span class=\"djtooltiptext\"></span>\n",
       "                        </div></th><th><div class=\"djtooltip\">\n",
       "                            <p id=\"nonprimary\">surgery</p>\n",
       "                            <span class=\"djtooltiptext\"></span>\n",
       "                        </div></th><th><div class=\"djtooltip\">\n",
       "                            <p id=\"nonprimary\">pharmacology</p>\n",
       "                            <span class=\"djtooltiptext\"></span>\n",
       "                        </div> </th> </tr> </thead>\n",
       "            <tbody> <tr> <td>L692</td>\n",
       "<td>Dendrite2</td>\n",
       "<td>Thy1-YFP</td>\n",
       "<td>F</td>\n",
       "<td>Mus musculus</td>\n",
       "<td>C57BL/6</td>\n",
       "<td>Contusion</td>\n",
       "<td>Romidepsin 2.5mg/kg inject IP 4 weeks after SCI</td></tr><tr><td>L712</td>\n",
       "<td>Dendrite1a</td>\n",
       "<td>Thy1-YFP</td>\n",
       "<td>F</td>\n",
       "<td>Mus musculus</td>\n",
       "<td>C57BL/6</td>\n",
       "<td>Contusion</td>\n",
       "<td>Romidepsin 2.5mg/kg inject IP 4 weeks after SCI</td></tr><tr><td>L712</td>\n",
       "<td>Dendrite1b</td>\n",
       "<td>Thy1-YFP</td>\n",
       "<td>F</td>\n",
       "<td>Mus musculus</td>\n",
       "<td>C57BL/6</td>\n",
       "<td>Contusion</td>\n",
       "<td>Romidepsin 2.5mg/kg inject IP 4 weeks after SCI</td></tr><tr><td>L719</td>\n",
       "<td>Dendrite2</td>\n",
       "<td>Thy1-YFP</td>\n",
       "<td>F</td>\n",
       "<td>Mus musculus</td>\n",
       "<td>C57BL/6</td>\n",
       "<td>Contusion</td>\n",
       "<td>Romidepsin 2.5mg/kg inject IP 4 weeks after SCI</td></tr><tr><td>L734</td>\n",
       "<td>Dendrite1</td>\n",
       "<td>Thy1-YFP</td>\n",
       "<td>F</td>\n",
       "<td>Mus musculus</td>\n",
       "<td>C57BL/6</td>\n",
       "<td>Contusion</td>\n",
       "<td>Vehicle</td></tr><tr><td>L912</td>\n",
       "<td>Dendrite2</td>\n",
       "<td>Thy1-YFP</td>\n",
       "<td>F</td>\n",
       "<td>Mus musculus</td>\n",
       "<td>C57BL/6</td>\n",
       "<td>Contusion</td>\n",
       "<td>Romidepsin 2.5mg/kg inject IP 4 weeks after SCI</td> </tr> </tbody>\n",
       "        </table>\n",
       "        \n",
       "        <p>Total: 6</p></div>\n",
       "        "
      ],
      "text/plain": [
       "*subject_id    *identifier    genotype     sex     species        strain      surgery       pharmacology  \n",
       "+------------+ +------------+ +----------+ +-----+ +------------+ +---------+ +-----------+ +------------+\n",
       "L692           Dendrite2      Thy1-YFP     F       Mus musculus   C57BL/6     Contusion     Romidepsin 2.5\n",
       "L712           Dendrite1a     Thy1-YFP     F       Mus musculus   C57BL/6     Contusion     Romidepsin 2.5\n",
       "L712           Dendrite1b     Thy1-YFP     F       Mus musculus   C57BL/6     Contusion     Romidepsin 2.5\n",
       "L719           Dendrite2      Thy1-YFP     F       Mus musculus   C57BL/6     Contusion     Romidepsin 2.5\n",
       "L734           Dendrite1      Thy1-YFP     F       Mus musculus   C57BL/6     Contusion     Vehicle       \n",
       "L912           Dendrite2      Thy1-YFP     F       Mus musculus   C57BL/6     Contusion     Romidepsin 2.5\n",
       " (Total: 6)"
      ]
     },
     "execution_count": 29,
     "metadata": {},
     "output_type": "execute_result"
    }
   ],
   "source": [
    "mouse*session"
   ]
  },
  {
   "cell_type": "code",
   "execution_count": 28,
   "metadata": {},
   "outputs": [
    {
     "name": "stderr",
     "output_type": "stream",
     "text": [
      "[2023-08-07 16:20:59,485][INFO]: Deleting 1 rows from `MarikeReimer`.`dendrite`\n",
      "[2023-08-07 16:20:59,606][INFO]: Deleting 1 rows from `MarikeReimer`.`session`\n",
      "[2023-08-07 16:20:59,733][INFO]: Deleting 1 rows from `MarikeReimer`.`mouse`\n"
     ]
    },
    {
     "name": "stdout",
     "output_type": "stream",
     "text": [
      "Deletes committed.\n"
     ]
    },
    {
     "data": {
      "text/plain": [
       "1"
      ]
     },
     "execution_count": 28,
     "metadata": {},
     "output_type": "execute_result"
    }
   ],
   "source": [
    "(mouse & 'subject_id = \"L719\"').delete()"
   ]
  },
  {
   "cell_type": "code",
   "execution_count": null,
   "metadata": {},
   "outputs": [],
   "source": [
    "###\n",
    "# Function to check if a given subject_id and identifier pair exists. TODO add to ClassDefinitions so that the CSV reader only works on your current file\n",
    "\n",
    "\n",
    "def check_subject_identifier_existence(subject_id, identifier):\n",
    "    mouse_query = Mouse & {'subject_id': subject_id}\n",
    "    session_query = Session & {'subject_id': subject_id, 'identifier': identifier}\n",
    "    \n",
    "    mouse_exists = bool(mouse_query)\n",
    "    session_exists = bool(session_query)\n",
    "    \n",
    "    return mouse_exists, session_exists\n",
    "\n",
    "# Test the function with a subject_id and identifier pair\n",
    "subject_id_to_check = 'L731'\n",
    "identifier_to_check = 'Dendrite1a'\n",
    "\n",
    "mouse_exists, session_exists = check_subject_identifier_existence(subject_id_to_check, identifier_to_check)\n",
    "\n",
    "print(f\"Mouse exists: {mouse_exists}\")\n",
    "print(f\"Session exists: {session_exists}\")"
   ]
  },
  {
   "cell_type": "code",
   "execution_count": null,
   "metadata": {},
   "outputs": [],
   "source": [
    "frame = pd.DataFrame(subject*session*dendrite*(image_segmentation & 'length > \"1\"' & 'length <= \"3\"')*distance_to_soma)\n",
    "print(frame)\n",
    "pd.DataFrame(frame).to_csv(\"C:/Users/meowm/Downloads/V11LargeSpinesSpinedata.csv\")\n"
   ]
  },
  {
   "cell_type": "code",
   "execution_count": null,
   "metadata": {},
   "outputs": [],
   "source": [
    "frame = pd.DataFrame(subject*session*dendrite)\n",
    "pd.DataFrame(frame).to_csv(\"C:/Users/meowm/Downloads/V11ShortDendriteList.csv\")"
   ]
  },
  {
   "cell_type": "code",
   "execution_count": null,
   "metadata": {},
   "outputs": [],
   "source": [
    "frame = pd.DataFrame(subject)\n",
    "pd.DataFrame(frame).to_csv(\"C:/Users/meowm/Downloads/SubjList.csv\")"
   ]
  },
  {
   "cell_type": "code",
   "execution_count": null,
   "metadata": {},
   "outputs": [],
   "source": [
    "frame = pd.DataFrame(subject*session*dendrite*image_segmentation*distance_to_soma)\n",
    "pd.DataFrame(frame).to_csv(\"C:/Users/meowm/Downloads/OP-09.csv\")"
   ]
  },
  {
   "cell_type": "code",
   "execution_count": null,
   "metadata": {},
   "outputs": [],
   "source": [
    "def connect_to_dj():\n",
    "    dj.config['database.host'] = 'spinup-db001f1f.cluster-cyynsscieqtk.us-east-1.rds.amazonaws.com' \n",
    "    dj.config['database.user'] = 'MarikeReimer'\n",
    "    dj.config['database.password'] = 'uqHKL3YLMCG0'\n",
    "    dj.conn()\n",
    "\n",
    "    #Create a schema to organize the pipeline. Defining it here means you only need to change the code in one place.\n",
    "    current_schema = dj.schema('MarikeReimer', locals())\n",
    "    return current_schema\n",
    "\n",
    "\n",
    "schema = connect_to_dj()\n",
    "print(schema)"
   ]
  },
  {
   "cell_type": "code",
   "execution_count": null,
   "metadata": {},
   "outputs": [],
   "source": [
    "Mouse.drop()"
   ]
  }
 ],
 "metadata": {
  "kernelspec": {
   "display_name": "Python 3",
   "language": "python",
   "name": "python3"
  },
  "language_info": {
   "codemirror_mode": {
    "name": "ipython",
    "version": 3
   },
   "file_extension": ".py",
   "mimetype": "text/x-python",
   "name": "python",
   "nbconvert_exporter": "python",
   "pygments_lexer": "ipython3",
   "version": "3.9.12"
  },
  "orig_nbformat": 4,
  "vscode": {
   "interpreter": {
    "hash": "ce6a8bf52d3ecb8ebc2b63c1f8453f3b6c55e396a27e58ab8636128f1eeaf971"
   }
  }
 },
 "nbformat": 4,
 "nbformat_minor": 2
}
